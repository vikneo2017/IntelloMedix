{
 "cells": [
  {
   "cell_type": "code",
   "execution_count": 162,
   "metadata": {},
   "outputs": [
    {
     "name": "stdout",
     "output_type": "stream",
     "text": [
      "Collecting gunicorn\n",
      "  Downloading https://files.pythonhosted.org/packages/69/ca/926f7cd3a2014b16870086b2d0fdc84a9e49473c68a8dff8b57f7c156f43/gunicorn-20.0.4-py2.py3-none-any.whl (77kB)\n",
      "Requirement already satisfied: setuptools>=3.0 in c:\\anaconda\\lib\\site-packages (from gunicorn) (45.1.0)\n",
      "Installing collected packages: gunicorn\n",
      "Successfully installed gunicorn-20.0.4\n"
     ]
    },
    {
     "name": "stderr",
     "output_type": "stream",
     "text": [
      "WARNING: You are using pip version 19.2.3, however version 20.1.1 is available.\n",
      "You should consider upgrading via the 'python -m pip install --upgrade pip' command.\n"
     ]
    }
   ],
   "source": [
    "!pip install gunicorn"
   ]
  },
  {
   "cell_type": "code",
   "execution_count": 33,
   "metadata": {},
   "outputs": [],
   "source": [
    "import pandas as pd\n",
    "import pydicom\n",
    "from matplotlib import pyplot as plt\n",
    "import png\n",
    "import pydicom\n",
    "import matplotlib.pyplot as plt\n",
    "import scipy.misc\n",
    "from skimage import io, transform, feature\n",
    "from PIL import Image\n",
    "import os\n",
    "import re\n",
    "import numpy as np"
   ]
  },
  {
   "cell_type": "markdown",
   "metadata": {},
   "source": [
    "## Создаем корректные файлы с путями к файлам "
   ]
  },
  {
   "cell_type": "markdown",
   "metadata": {
    "heading_collapsed": true
   },
   "source": [
    "### Просмотр описания снимков"
   ]
  },
  {
   "cell_type": "code",
   "execution_count": 34,
   "metadata": {
    "hidden": true
   },
   "outputs": [
    {
     "data": {
      "text/html": [
       "<div>\n",
       "<style scoped>\n",
       "    .dataframe tbody tr th:only-of-type {\n",
       "        vertical-align: middle;\n",
       "    }\n",
       "\n",
       "    .dataframe tbody tr th {\n",
       "        vertical-align: top;\n",
       "    }\n",
       "\n",
       "    .dataframe thead th {\n",
       "        text-align: right;\n",
       "    }\n",
       "</style>\n",
       "<table border=\"1\" class=\"dataframe\">\n",
       "  <thead>\n",
       "    <tr style=\"text-align: right;\">\n",
       "      <th></th>\n",
       "      <th>patient_id</th>\n",
       "      <th>breast density</th>\n",
       "      <th>left or right breast</th>\n",
       "      <th>image view</th>\n",
       "      <th>abnormality id</th>\n",
       "      <th>abnormality type</th>\n",
       "      <th>calc type</th>\n",
       "      <th>calc distribution</th>\n",
       "      <th>assessment</th>\n",
       "      <th>pathology</th>\n",
       "      <th>subtlety</th>\n",
       "      <th>image file path</th>\n",
       "      <th>cropped image file path</th>\n",
       "      <th>ROI mask file path</th>\n",
       "    </tr>\n",
       "  </thead>\n",
       "  <tbody>\n",
       "    <tr>\n",
       "      <th>0</th>\n",
       "      <td>P_00038</td>\n",
       "      <td>2</td>\n",
       "      <td>LEFT</td>\n",
       "      <td>CC</td>\n",
       "      <td>1</td>\n",
       "      <td>calcification</td>\n",
       "      <td>PUNCTATE-PLEOMORPHIC</td>\n",
       "      <td>CLUSTERED</td>\n",
       "      <td>4</td>\n",
       "      <td>BENIGN</td>\n",
       "      <td>2</td>\n",
       "      <td>Calc-Test_P_00038_LEFT_CC/1.3.6.1.4.1.9590.100...</td>\n",
       "      <td>Calc-Test_P_00038_LEFT_CC_1/1.3.6.1.4.1.9590.1...</td>\n",
       "      <td>Calc-Test_P_00038_LEFT_CC_1/1.3.6.1.4.1.9590.1...</td>\n",
       "    </tr>\n",
       "    <tr>\n",
       "      <th>1</th>\n",
       "      <td>P_00038</td>\n",
       "      <td>2</td>\n",
       "      <td>LEFT</td>\n",
       "      <td>MLO</td>\n",
       "      <td>1</td>\n",
       "      <td>calcification</td>\n",
       "      <td>PUNCTATE-PLEOMORPHIC</td>\n",
       "      <td>CLUSTERED</td>\n",
       "      <td>4</td>\n",
       "      <td>BENIGN</td>\n",
       "      <td>2</td>\n",
       "      <td>Calc-Test_P_00038_LEFT_MLO/1.3.6.1.4.1.9590.10...</td>\n",
       "      <td>Calc-Test_P_00038_LEFT_MLO_1/1.3.6.1.4.1.9590....</td>\n",
       "      <td>Calc-Test_P_00038_LEFT_MLO_1/1.3.6.1.4.1.9590....</td>\n",
       "    </tr>\n",
       "    <tr>\n",
       "      <th>2</th>\n",
       "      <td>P_00038</td>\n",
       "      <td>2</td>\n",
       "      <td>RIGHT</td>\n",
       "      <td>CC</td>\n",
       "      <td>1</td>\n",
       "      <td>calcification</td>\n",
       "      <td>VASCULAR</td>\n",
       "      <td>NaN</td>\n",
       "      <td>2</td>\n",
       "      <td>BENIGN_WITHOUT_CALLBACK</td>\n",
       "      <td>5</td>\n",
       "      <td>Calc-Test_P_00038_RIGHT_CC/1.3.6.1.4.1.9590.10...</td>\n",
       "      <td>Calc-Test_P_00038_RIGHT_CC_1/1.3.6.1.4.1.9590....</td>\n",
       "      <td>Calc-Test_P_00038_RIGHT_CC_1/1.3.6.1.4.1.9590....</td>\n",
       "    </tr>\n",
       "    <tr>\n",
       "      <th>3</th>\n",
       "      <td>P_00038</td>\n",
       "      <td>2</td>\n",
       "      <td>RIGHT</td>\n",
       "      <td>CC</td>\n",
       "      <td>2</td>\n",
       "      <td>calcification</td>\n",
       "      <td>VASCULAR</td>\n",
       "      <td>NaN</td>\n",
       "      <td>2</td>\n",
       "      <td>BENIGN_WITHOUT_CALLBACK</td>\n",
       "      <td>5</td>\n",
       "      <td>Calc-Test_P_00038_RIGHT_CC/1.3.6.1.4.1.9590.10...</td>\n",
       "      <td>Calc-Test_P_00038_RIGHT_CC_2/1.3.6.1.4.1.9590....</td>\n",
       "      <td>Calc-Test_P_00038_RIGHT_CC_2/1.3.6.1.4.1.9590....</td>\n",
       "    </tr>\n",
       "    <tr>\n",
       "      <th>4</th>\n",
       "      <td>P_00038</td>\n",
       "      <td>2</td>\n",
       "      <td>RIGHT</td>\n",
       "      <td>MLO</td>\n",
       "      <td>1</td>\n",
       "      <td>calcification</td>\n",
       "      <td>VASCULAR</td>\n",
       "      <td>NaN</td>\n",
       "      <td>2</td>\n",
       "      <td>BENIGN_WITHOUT_CALLBACK</td>\n",
       "      <td>5</td>\n",
       "      <td>Calc-Test_P_00038_RIGHT_MLO/1.3.6.1.4.1.9590.1...</td>\n",
       "      <td>Calc-Test_P_00038_RIGHT_MLO_1/1.3.6.1.4.1.9590...</td>\n",
       "      <td>Calc-Test_P_00038_RIGHT_MLO_1/1.3.6.1.4.1.9590...</td>\n",
       "    </tr>\n",
       "    <tr>\n",
       "      <th>5</th>\n",
       "      <td>P_00038</td>\n",
       "      <td>2</td>\n",
       "      <td>RIGHT</td>\n",
       "      <td>MLO</td>\n",
       "      <td>2</td>\n",
       "      <td>calcification</td>\n",
       "      <td>VASCULAR</td>\n",
       "      <td>NaN</td>\n",
       "      <td>2</td>\n",
       "      <td>BENIGN_WITHOUT_CALLBACK</td>\n",
       "      <td>5</td>\n",
       "      <td>Calc-Test_P_00038_RIGHT_MLO/1.3.6.1.4.1.9590.1...</td>\n",
       "      <td>Calc-Test_P_00038_RIGHT_MLO_2/1.3.6.1.4.1.9590...</td>\n",
       "      <td>Calc-Test_P_00038_RIGHT_MLO_2/1.3.6.1.4.1.9590...</td>\n",
       "    </tr>\n",
       "    <tr>\n",
       "      <th>6</th>\n",
       "      <td>P_00041</td>\n",
       "      <td>1</td>\n",
       "      <td>LEFT</td>\n",
       "      <td>CC</td>\n",
       "      <td>2</td>\n",
       "      <td>calcification</td>\n",
       "      <td>LUCENT_CENTER</td>\n",
       "      <td>NaN</td>\n",
       "      <td>2</td>\n",
       "      <td>BENIGN_WITHOUT_CALLBACK</td>\n",
       "      <td>5</td>\n",
       "      <td>Calc-Test_P_00041_LEFT_CC/1.3.6.1.4.1.9590.100...</td>\n",
       "      <td>Calc-Test_P_00041_LEFT_CC_2/1.3.6.1.4.1.9590.1...</td>\n",
       "      <td>Calc-Test_P_00041_LEFT_CC_2/1.3.6.1.4.1.9590.1...</td>\n",
       "    </tr>\n",
       "    <tr>\n",
       "      <th>7</th>\n",
       "      <td>P_00041</td>\n",
       "      <td>1</td>\n",
       "      <td>LEFT</td>\n",
       "      <td>MLO</td>\n",
       "      <td>2</td>\n",
       "      <td>calcification</td>\n",
       "      <td>LUCENT_CENTER</td>\n",
       "      <td>NaN</td>\n",
       "      <td>2</td>\n",
       "      <td>BENIGN_WITHOUT_CALLBACK</td>\n",
       "      <td>5</td>\n",
       "      <td>Calc-Test_P_00041_LEFT_MLO/1.3.6.1.4.1.9590.10...</td>\n",
       "      <td>Calc-Test_P_00041_LEFT_MLO_2/1.3.6.1.4.1.9590....</td>\n",
       "      <td>Calc-Test_P_00041_LEFT_MLO_2/1.3.6.1.4.1.9590....</td>\n",
       "    </tr>\n",
       "    <tr>\n",
       "      <th>8</th>\n",
       "      <td>P_00077</td>\n",
       "      <td>2</td>\n",
       "      <td>LEFT</td>\n",
       "      <td>CC</td>\n",
       "      <td>1</td>\n",
       "      <td>calcification</td>\n",
       "      <td>ROUND_AND_REGULAR</td>\n",
       "      <td>NaN</td>\n",
       "      <td>2</td>\n",
       "      <td>BENIGN_WITHOUT_CALLBACK</td>\n",
       "      <td>3</td>\n",
       "      <td>Calc-Test_P_00077_LEFT_CC/1.3.6.1.4.1.9590.100...</td>\n",
       "      <td>Calc-Test_P_00077_LEFT_CC_1/1.3.6.1.4.1.9590.1...</td>\n",
       "      <td>Calc-Test_P_00077_LEFT_CC_1/1.3.6.1.4.1.9590.1...</td>\n",
       "    </tr>\n",
       "    <tr>\n",
       "      <th>9</th>\n",
       "      <td>P_00077</td>\n",
       "      <td>2</td>\n",
       "      <td>LEFT</td>\n",
       "      <td>MLO</td>\n",
       "      <td>1</td>\n",
       "      <td>calcification</td>\n",
       "      <td>ROUND_AND_REGULAR</td>\n",
       "      <td>NaN</td>\n",
       "      <td>2</td>\n",
       "      <td>BENIGN_WITHOUT_CALLBACK</td>\n",
       "      <td>3</td>\n",
       "      <td>Calc-Test_P_00077_LEFT_MLO/1.3.6.1.4.1.9590.10...</td>\n",
       "      <td>Calc-Test_P_00077_LEFT_MLO_1/1.3.6.1.4.1.9590....</td>\n",
       "      <td>Calc-Test_P_00077_LEFT_MLO_1/1.3.6.1.4.1.9590....</td>\n",
       "    </tr>\n",
       "  </tbody>\n",
       "</table>\n",
       "</div>"
      ],
      "text/plain": [
       "  patient_id  breast density left or right breast image view  abnormality id  \\\n",
       "0    P_00038               2                 LEFT         CC               1   \n",
       "1    P_00038               2                 LEFT        MLO               1   \n",
       "2    P_00038               2                RIGHT         CC               1   \n",
       "3    P_00038               2                RIGHT         CC               2   \n",
       "4    P_00038               2                RIGHT        MLO               1   \n",
       "5    P_00038               2                RIGHT        MLO               2   \n",
       "6    P_00041               1                 LEFT         CC               2   \n",
       "7    P_00041               1                 LEFT        MLO               2   \n",
       "8    P_00077               2                 LEFT         CC               1   \n",
       "9    P_00077               2                 LEFT        MLO               1   \n",
       "\n",
       "  abnormality type             calc type calc distribution  assessment  \\\n",
       "0    calcification  PUNCTATE-PLEOMORPHIC         CLUSTERED           4   \n",
       "1    calcification  PUNCTATE-PLEOMORPHIC         CLUSTERED           4   \n",
       "2    calcification              VASCULAR               NaN           2   \n",
       "3    calcification              VASCULAR               NaN           2   \n",
       "4    calcification              VASCULAR               NaN           2   \n",
       "5    calcification              VASCULAR               NaN           2   \n",
       "6    calcification         LUCENT_CENTER               NaN           2   \n",
       "7    calcification         LUCENT_CENTER               NaN           2   \n",
       "8    calcification     ROUND_AND_REGULAR               NaN           2   \n",
       "9    calcification     ROUND_AND_REGULAR               NaN           2   \n",
       "\n",
       "                 pathology  subtlety  \\\n",
       "0                   BENIGN         2   \n",
       "1                   BENIGN         2   \n",
       "2  BENIGN_WITHOUT_CALLBACK         5   \n",
       "3  BENIGN_WITHOUT_CALLBACK         5   \n",
       "4  BENIGN_WITHOUT_CALLBACK         5   \n",
       "5  BENIGN_WITHOUT_CALLBACK         5   \n",
       "6  BENIGN_WITHOUT_CALLBACK         5   \n",
       "7  BENIGN_WITHOUT_CALLBACK         5   \n",
       "8  BENIGN_WITHOUT_CALLBACK         3   \n",
       "9  BENIGN_WITHOUT_CALLBACK         3   \n",
       "\n",
       "                                     image file path  \\\n",
       "0  Calc-Test_P_00038_LEFT_CC/1.3.6.1.4.1.9590.100...   \n",
       "1  Calc-Test_P_00038_LEFT_MLO/1.3.6.1.4.1.9590.10...   \n",
       "2  Calc-Test_P_00038_RIGHT_CC/1.3.6.1.4.1.9590.10...   \n",
       "3  Calc-Test_P_00038_RIGHT_CC/1.3.6.1.4.1.9590.10...   \n",
       "4  Calc-Test_P_00038_RIGHT_MLO/1.3.6.1.4.1.9590.1...   \n",
       "5  Calc-Test_P_00038_RIGHT_MLO/1.3.6.1.4.1.9590.1...   \n",
       "6  Calc-Test_P_00041_LEFT_CC/1.3.6.1.4.1.9590.100...   \n",
       "7  Calc-Test_P_00041_LEFT_MLO/1.3.6.1.4.1.9590.10...   \n",
       "8  Calc-Test_P_00077_LEFT_CC/1.3.6.1.4.1.9590.100...   \n",
       "9  Calc-Test_P_00077_LEFT_MLO/1.3.6.1.4.1.9590.10...   \n",
       "\n",
       "                             cropped image file path  \\\n",
       "0  Calc-Test_P_00038_LEFT_CC_1/1.3.6.1.4.1.9590.1...   \n",
       "1  Calc-Test_P_00038_LEFT_MLO_1/1.3.6.1.4.1.9590....   \n",
       "2  Calc-Test_P_00038_RIGHT_CC_1/1.3.6.1.4.1.9590....   \n",
       "3  Calc-Test_P_00038_RIGHT_CC_2/1.3.6.1.4.1.9590....   \n",
       "4  Calc-Test_P_00038_RIGHT_MLO_1/1.3.6.1.4.1.9590...   \n",
       "5  Calc-Test_P_00038_RIGHT_MLO_2/1.3.6.1.4.1.9590...   \n",
       "6  Calc-Test_P_00041_LEFT_CC_2/1.3.6.1.4.1.9590.1...   \n",
       "7  Calc-Test_P_00041_LEFT_MLO_2/1.3.6.1.4.1.9590....   \n",
       "8  Calc-Test_P_00077_LEFT_CC_1/1.3.6.1.4.1.9590.1...   \n",
       "9  Calc-Test_P_00077_LEFT_MLO_1/1.3.6.1.4.1.9590....   \n",
       "\n",
       "                                  ROI mask file path  \n",
       "0  Calc-Test_P_00038_LEFT_CC_1/1.3.6.1.4.1.9590.1...  \n",
       "1  Calc-Test_P_00038_LEFT_MLO_1/1.3.6.1.4.1.9590....  \n",
       "2  Calc-Test_P_00038_RIGHT_CC_1/1.3.6.1.4.1.9590....  \n",
       "3  Calc-Test_P_00038_RIGHT_CC_2/1.3.6.1.4.1.9590....  \n",
       "4  Calc-Test_P_00038_RIGHT_MLO_1/1.3.6.1.4.1.9590...  \n",
       "5  Calc-Test_P_00038_RIGHT_MLO_2/1.3.6.1.4.1.9590...  \n",
       "6  Calc-Test_P_00041_LEFT_CC_2/1.3.6.1.4.1.9590.1...  \n",
       "7  Calc-Test_P_00041_LEFT_MLO_2/1.3.6.1.4.1.9590....  \n",
       "8  Calc-Test_P_00077_LEFT_CC_1/1.3.6.1.4.1.9590.1...  \n",
       "9  Calc-Test_P_00077_LEFT_MLO_1/1.3.6.1.4.1.9590....  "
      ]
     },
     "execution_count": 34,
     "metadata": {},
     "output_type": "execute_result"
    }
   ],
   "source": [
    "data = pd.read_csv('calc_case_description_test_set.csv')\n",
    "data.head(10)"
   ]
  },
  {
   "cell_type": "markdown",
   "metadata": {
    "heading_collapsed": true
   },
   "source": [
    "### Изменяем пути к файлам изображений на верные"
   ]
  },
  {
   "cell_type": "code",
   "execution_count": 27,
   "metadata": {
    "hidden": true
   },
   "outputs": [],
   "source": [
    "type_dir = ['F:\\\\CBIS-DDSM\\\\Calc-Test_', 'F:\\\\CBIS-DDSM\\\\Calc-Training_',  'F:\\\\CBIS-DDSM\\\\Mass-Test_', 'F:\\\\CBIS-DDSM\\\\Mass-Training_']\n",
    "data_csv = ['calc_case_description_test_set.csv', 'calc_case_description_train_set.csv', 'mass_case_description_test_set.csv', 'mass_case_description_train_set.csv']"
   ]
  },
  {
   "cell_type": "code",
   "execution_count": 48,
   "metadata": {
    "hidden": true
   },
   "outputs": [
    {
     "name": "stdout",
     "output_type": "stream",
     "text": [
      "Сохранено 326 изображений из 326\n",
      "Сохранено 1546 изображений из 1546\n",
      "Сохранено 378 изображений из 378\n",
      "Сохранено 1318 изображений из 1318\n"
     ]
    }
   ],
   "source": [
    "for sets in range(4):\n",
    "    data = pd.read_csv(data_csv[sets])\n",
    "    path_dir=type_dir[sets]\n",
    "    for i in range(len(data)):\n",
    "        path=str(path_dir)+str(data['patient_id'][i])+str('_')+str(data['left or right breast'][i])+str('_')+str(data['image view'][i])\n",
    "        k=0\n",
    "        for root, dirs, files in os.walk(path, topdown=True):\n",
    "            k+=1\n",
    "            if k==3:\n",
    "                path_file=str(root)+str('\\\\')+str(files[0])\n",
    "                file = path_file.replace('\\\\', '/')\n",
    "                data.iloc[i, 11] = str(file[13:])\n",
    "        if i==len(data)-1:\n",
    "            print('Сохранено {} изображений из {}'.format(i+1, len(data)))\n",
    "    data.to_csv('new_'+str(data_csv[sets]))"
   ]
  },
  {
   "cell_type": "markdown",
   "metadata": {},
   "source": [
    "### Изменяем пути к файлам масок на верные"
   ]
  },
  {
   "cell_type": "code",
   "execution_count": 35,
   "metadata": {},
   "outputs": [],
   "source": [
    "type_dir_mask = ['F:\\\\CBIS-DDSM\\\\Calc-Test_', 'F:\\\\CBIS-DDSM\\\\Calc-Training_',  'F:\\\\CBIS-DDSM\\\\Mass-Test_', 'F:\\\\CBIS-DDSM\\\\Mass-Training_']\n",
    "data_csv_mask = ['new_calc_case_description_test_set.csv', 'new_calc_case_description_train_set.csv', 'new_mass_case_description_test_set.csv', 'new_mass_case_description_train_set.csv']"
   ]
  },
  {
   "cell_type": "code",
   "execution_count": 40,
   "metadata": {},
   "outputs": [],
   "source": [
    "for j in range(4):\n",
    "    data_mask = pd.read_csv(data_csv_mask[j])\n",
    "    path_dir_mask=type_dir_mask[j]\n",
    "    for i in range(len(data_mask)):\n",
    "        path=str(path_dir_mask)+str(data_mask['patient_id'][i])+str('_')+str(data_mask['left or right breast'][i])+str('_')+str(data_mask['image view'][i])+str('_')+str(data_mask['abnormality id'][i])\n",
    "        k=0\n",
    "        for root, dirs, files in os.walk(path, topdown=True):\n",
    "            k+=1\n",
    "            if k==3:\n",
    "                if len(files)==2:\n",
    "                    path_file=str(root)+str('\\\\')+str(files[1])\n",
    "                    file = path_file.replace('\\\\', '/')\n",
    "                    data_mask.iloc[i, 13] = str(file[13:])\n",
    "        if i==len(data_mask):\n",
    "            print('Сохранено {} изображений из {}'.format(i+1, len(data_mask[j])))\n",
    "    data_mask.to_csv('new_'+str(data_csv_mask[j]))"
   ]
  },
  {
   "cell_type": "markdown",
   "metadata": {},
   "source": [
    "### Изменяем пути к файлам (обрезанным)"
   ]
  },
  {
   "cell_type": "code",
   "execution_count": 53,
   "metadata": {},
   "outputs": [],
   "source": [
    "# datax = pd.read_csv('new_new_mass_case_description_train_set.csv')\n",
    "# datax['ROI mask file path']=datax['cropped image file path']\n",
    "# datax=datax.drop(columns=['Unnamed: 0', 'Unnamed: 0.1'])\n",
    "# datax.to_csv('masstrain.csv')"
   ]
  },
  {
   "cell_type": "code",
   "execution_count": 54,
   "metadata": {},
   "outputs": [],
   "source": [
    "type_dir_crop = ['F:\\\\CBIS-DDSM\\\\Calc-Test_', 'F:\\\\CBIS-DDSM\\\\Calc-Training_',  'F:\\\\CBIS-DDSM\\\\Mass-Test_', 'F:\\\\CBIS-DDSM\\\\Mass-Training_']\n",
    "data_csv_crop = ['calctest.csv', 'calctrain.csv', 'masstest.csv', 'masstrain.csv']"
   ]
  },
  {
   "cell_type": "code",
   "execution_count": 57,
   "metadata": {},
   "outputs": [],
   "source": [
    "datax = pd.read_csv('calctest.csv').drop(columns=['Unnamed: 0'])"
   ]
  },
  {
   "cell_type": "code",
   "execution_count": 58,
   "metadata": {},
   "outputs": [
    {
     "data": {
      "text/html": [
       "<div>\n",
       "<style scoped>\n",
       "    .dataframe tbody tr th:only-of-type {\n",
       "        vertical-align: middle;\n",
       "    }\n",
       "\n",
       "    .dataframe tbody tr th {\n",
       "        vertical-align: top;\n",
       "    }\n",
       "\n",
       "    .dataframe thead th {\n",
       "        text-align: right;\n",
       "    }\n",
       "</style>\n",
       "<table border=\"1\" class=\"dataframe\">\n",
       "  <thead>\n",
       "    <tr style=\"text-align: right;\">\n",
       "      <th></th>\n",
       "      <th>patient_id</th>\n",
       "      <th>breast density</th>\n",
       "      <th>left or right breast</th>\n",
       "      <th>image view</th>\n",
       "      <th>abnormality id</th>\n",
       "      <th>abnormality type</th>\n",
       "      <th>calc type</th>\n",
       "      <th>calc distribution</th>\n",
       "      <th>assessment</th>\n",
       "      <th>pathology</th>\n",
       "      <th>subtlety</th>\n",
       "      <th>image file path</th>\n",
       "      <th>cropped image file path</th>\n",
       "      <th>ROI mask file path</th>\n",
       "    </tr>\n",
       "  </thead>\n",
       "  <tbody>\n",
       "    <tr>\n",
       "      <th>0</th>\n",
       "      <td>P_00038</td>\n",
       "      <td>2</td>\n",
       "      <td>LEFT</td>\n",
       "      <td>CC</td>\n",
       "      <td>1</td>\n",
       "      <td>calcification</td>\n",
       "      <td>PUNCTATE-PLEOMORPHIC</td>\n",
       "      <td>CLUSTERED</td>\n",
       "      <td>4</td>\n",
       "      <td>BENIGN</td>\n",
       "      <td>2</td>\n",
       "      <td>Calc-Test_P_00038_LEFT_CC/08-29-2017-DDSM-9600...</td>\n",
       "      <td>Calc-Test_P_00038_LEFT_CC_1/08-29-2017-DDSM-94...</td>\n",
       "      <td>Calc-Test_P_00038_LEFT_CC_1/08-29-2017-DDSM-94...</td>\n",
       "    </tr>\n",
       "    <tr>\n",
       "      <th>1</th>\n",
       "      <td>P_00038</td>\n",
       "      <td>2</td>\n",
       "      <td>LEFT</td>\n",
       "      <td>MLO</td>\n",
       "      <td>1</td>\n",
       "      <td>calcification</td>\n",
       "      <td>PUNCTATE-PLEOMORPHIC</td>\n",
       "      <td>CLUSTERED</td>\n",
       "      <td>4</td>\n",
       "      <td>BENIGN</td>\n",
       "      <td>2</td>\n",
       "      <td>Calc-Test_P_00038_LEFT_MLO/08-29-2017-DDSM-176...</td>\n",
       "      <td>Calc-Test_P_00038_LEFT_MLO_1/08-29-2017-DDSM-1...</td>\n",
       "      <td>Calc-Test_P_00038_LEFT_MLO_1/08-29-2017-DDSM-1...</td>\n",
       "    </tr>\n",
       "    <tr>\n",
       "      <th>2</th>\n",
       "      <td>P_00038</td>\n",
       "      <td>2</td>\n",
       "      <td>RIGHT</td>\n",
       "      <td>CC</td>\n",
       "      <td>1</td>\n",
       "      <td>calcification</td>\n",
       "      <td>VASCULAR</td>\n",
       "      <td>NaN</td>\n",
       "      <td>2</td>\n",
       "      <td>BENIGN_WITHOUT_CALLBACK</td>\n",
       "      <td>5</td>\n",
       "      <td>Calc-Test_P_00038_RIGHT_CC/08-29-2017-DDSM-284...</td>\n",
       "      <td>Calc-Test_P_00038_RIGHT_CC_1/08-29-2017-DDSM-8...</td>\n",
       "      <td>Calc-Test_P_00038_RIGHT_CC_1/08-29-2017-DDSM-8...</td>\n",
       "    </tr>\n",
       "    <tr>\n",
       "      <th>3</th>\n",
       "      <td>P_00038</td>\n",
       "      <td>2</td>\n",
       "      <td>RIGHT</td>\n",
       "      <td>CC</td>\n",
       "      <td>2</td>\n",
       "      <td>calcification</td>\n",
       "      <td>VASCULAR</td>\n",
       "      <td>NaN</td>\n",
       "      <td>2</td>\n",
       "      <td>BENIGN_WITHOUT_CALLBACK</td>\n",
       "      <td>5</td>\n",
       "      <td>Calc-Test_P_00038_RIGHT_CC/08-29-2017-DDSM-284...</td>\n",
       "      <td>Calc-Test_P_00038_RIGHT_CC_2/08-29-2017-DDSM-6...</td>\n",
       "      <td>Calc-Test_P_00038_RIGHT_CC_2/08-29-2017-DDSM-6...</td>\n",
       "    </tr>\n",
       "    <tr>\n",
       "      <th>4</th>\n",
       "      <td>P_00038</td>\n",
       "      <td>2</td>\n",
       "      <td>RIGHT</td>\n",
       "      <td>MLO</td>\n",
       "      <td>1</td>\n",
       "      <td>calcification</td>\n",
       "      <td>VASCULAR</td>\n",
       "      <td>NaN</td>\n",
       "      <td>2</td>\n",
       "      <td>BENIGN_WITHOUT_CALLBACK</td>\n",
       "      <td>5</td>\n",
       "      <td>Calc-Test_P_00038_RIGHT_MLO/08-29-2017-DDSM-85...</td>\n",
       "      <td>Calc-Test_P_00038_RIGHT_MLO_1/08-29-2017-DDSM-...</td>\n",
       "      <td>Calc-Test_P_00038_RIGHT_MLO_1/08-29-2017-DDSM-...</td>\n",
       "    </tr>\n",
       "  </tbody>\n",
       "</table>\n",
       "</div>"
      ],
      "text/plain": [
       "  patient_id  breast density left or right breast image view  abnormality id  \\\n",
       "0    P_00038               2                 LEFT         CC               1   \n",
       "1    P_00038               2                 LEFT        MLO               1   \n",
       "2    P_00038               2                RIGHT         CC               1   \n",
       "3    P_00038               2                RIGHT         CC               2   \n",
       "4    P_00038               2                RIGHT        MLO               1   \n",
       "\n",
       "  abnormality type             calc type calc distribution  assessment  \\\n",
       "0    calcification  PUNCTATE-PLEOMORPHIC         CLUSTERED           4   \n",
       "1    calcification  PUNCTATE-PLEOMORPHIC         CLUSTERED           4   \n",
       "2    calcification              VASCULAR               NaN           2   \n",
       "3    calcification              VASCULAR               NaN           2   \n",
       "4    calcification              VASCULAR               NaN           2   \n",
       "\n",
       "                 pathology  subtlety  \\\n",
       "0                   BENIGN         2   \n",
       "1                   BENIGN         2   \n",
       "2  BENIGN_WITHOUT_CALLBACK         5   \n",
       "3  BENIGN_WITHOUT_CALLBACK         5   \n",
       "4  BENIGN_WITHOUT_CALLBACK         5   \n",
       "\n",
       "                                     image file path  \\\n",
       "0  Calc-Test_P_00038_LEFT_CC/08-29-2017-DDSM-9600...   \n",
       "1  Calc-Test_P_00038_LEFT_MLO/08-29-2017-DDSM-176...   \n",
       "2  Calc-Test_P_00038_RIGHT_CC/08-29-2017-DDSM-284...   \n",
       "3  Calc-Test_P_00038_RIGHT_CC/08-29-2017-DDSM-284...   \n",
       "4  Calc-Test_P_00038_RIGHT_MLO/08-29-2017-DDSM-85...   \n",
       "\n",
       "                             cropped image file path  \\\n",
       "0  Calc-Test_P_00038_LEFT_CC_1/08-29-2017-DDSM-94...   \n",
       "1  Calc-Test_P_00038_LEFT_MLO_1/08-29-2017-DDSM-1...   \n",
       "2  Calc-Test_P_00038_RIGHT_CC_1/08-29-2017-DDSM-8...   \n",
       "3  Calc-Test_P_00038_RIGHT_CC_2/08-29-2017-DDSM-6...   \n",
       "4  Calc-Test_P_00038_RIGHT_MLO_1/08-29-2017-DDSM-...   \n",
       "\n",
       "                                  ROI mask file path  \n",
       "0  Calc-Test_P_00038_LEFT_CC_1/08-29-2017-DDSM-94...  \n",
       "1  Calc-Test_P_00038_LEFT_MLO_1/08-29-2017-DDSM-1...  \n",
       "2  Calc-Test_P_00038_RIGHT_CC_1/08-29-2017-DDSM-8...  \n",
       "3  Calc-Test_P_00038_RIGHT_CC_2/08-29-2017-DDSM-6...  \n",
       "4  Calc-Test_P_00038_RIGHT_MLO_1/08-29-2017-DDSM-...  "
      ]
     },
     "execution_count": 58,
     "metadata": {},
     "output_type": "execute_result"
    }
   ],
   "source": [
    "datax.head()"
   ]
  },
  {
   "cell_type": "code",
   "execution_count": 60,
   "metadata": {},
   "outputs": [],
   "source": [
    "for j in range(4):\n",
    "    data_crop = pd.read_csv(data_csv_crop[j]).drop(columns=['Unnamed: 0'])\n",
    "    path_dir_crop=type_dir_crop[j]\n",
    "    for i in range(len(data_crop)):\n",
    "        path=str(path_dir_crop)+str(data_crop['patient_id'][i])+str('_')+str(data_crop['left or right breast'][i])+str('_')+str(data_crop['image view'][i])+str('_')+str(data_crop['abnormality id'][i])\n",
    "        k=0\n",
    "        for root, dirs, files in os.walk(path, topdown=True):\n",
    "            k+=1\n",
    "            if k==3:\n",
    "                if len(files)==2:\n",
    "                    path_file=str(root)+str('\\\\')+str(files[0])\n",
    "                    file = path_file.replace('\\\\', '/')\n",
    "                    data_crop.iloc[i, 13] = str(file[13:])\n",
    "        if i==len(data_crop):\n",
    "            print('Сохранено {} изображений из {}'.format(i+1, len(data_crop[j])))\n",
    "    data_crop.to_csv('new_'+str(data_csv_crop[j]))"
   ]
  },
  {
   "cell_type": "markdown",
   "metadata": {},
   "source": [
    "## Склеиваем calc и mass датасеты с новыми путями к файлам"
   ]
  },
  {
   "cell_type": "code",
   "execution_count": 120,
   "metadata": {},
   "outputs": [],
   "source": [
    "new_data_csv = ['new_calctest.csv', \n",
    "                'new_calctrain.csv', \n",
    "                'new_masstest.csv', \n",
    "                'new_masstrain.csv']"
   ]
  },
  {
   "cell_type": "code",
   "execution_count": 121,
   "metadata": {},
   "outputs": [
    {
     "name": "stderr",
     "output_type": "stream",
     "text": [
      "C:\\Anaconda\\lib\\site-packages\\ipykernel_launcher.py:4: FutureWarning: Sorting because non-concatenation axis is not aligned. A future version\n",
      "of pandas will change to not sort by default.\n",
      "\n",
      "To accept the future behavior, pass 'sort=False'.\n",
      "\n",
      "To retain the current behavior and silence the warning, pass 'sort=True'.\n",
      "\n",
      "  after removing the cwd from sys.path.\n"
     ]
    }
   ],
   "source": [
    "data_test_1 = pd.read_csv(new_data_csv[0]).drop(columns=['Unnamed: 0'])\n",
    "data_test_2 = pd.read_csv(new_data_csv[2]).drop(columns=['Unnamed: 0'])\n",
    "\n",
    "data_test = pd.concat([data_test_1, data_test_2]).reset_index().drop(columns=['index'])"
   ]
  },
  {
   "cell_type": "code",
   "execution_count": 122,
   "metadata": {},
   "outputs": [],
   "source": [
    "data_test = data_test.rename(columns={'cropped image file path':'ROI mask file path', 'ROI mask file path':'cropped image file path'})"
   ]
  },
  {
   "cell_type": "code",
   "execution_count": 123,
   "metadata": {},
   "outputs": [
    {
     "data": {
      "text/plain": [
       "704"
      ]
     },
     "execution_count": 123,
     "metadata": {},
     "output_type": "execute_result"
    }
   ],
   "source": [
    "len(data_test)"
   ]
  },
  {
   "cell_type": "code",
   "execution_count": 124,
   "metadata": {},
   "outputs": [],
   "source": [
    "data_test.to_csv('_test.csv')"
   ]
  },
  {
   "cell_type": "code",
   "execution_count": 125,
   "metadata": {},
   "outputs": [
    {
     "data": {
      "text/plain": [
       "'Calc-Test_P_00038_LEFT_MLO/08-29-2017-DDSM-17613/1.000000-full mammogram images-97934/1-1.dcm'"
      ]
     },
     "execution_count": 125,
     "metadata": {},
     "output_type": "execute_result"
    }
   ],
   "source": [
    "data_test['image file path'][1]"
   ]
  },
  {
   "cell_type": "code",
   "execution_count": 126,
   "metadata": {},
   "outputs": [
    {
     "name": "stderr",
     "output_type": "stream",
     "text": [
      "C:\\Anaconda\\lib\\site-packages\\ipykernel_launcher.py:4: FutureWarning: Sorting because non-concatenation axis is not aligned. A future version\n",
      "of pandas will change to not sort by default.\n",
      "\n",
      "To accept the future behavior, pass 'sort=False'.\n",
      "\n",
      "To retain the current behavior and silence the warning, pass 'sort=True'.\n",
      "\n",
      "  after removing the cwd from sys.path.\n"
     ]
    },
    {
     "data": {
      "text/plain": [
       "'Calc-Training_P_00005_RIGHT_CC/08-07-2016-DDSM-23157/1.000000-full mammogram images-38548/1-1.dcm'"
      ]
     },
     "execution_count": 126,
     "metadata": {},
     "output_type": "execute_result"
    }
   ],
   "source": [
    "data_train_1 = pd.read_csv(new_data_csv[1]).drop(columns=['Unnamed: 0'])\n",
    "data_train_2 = pd.read_csv(new_data_csv[3]).drop(columns=['Unnamed: 0'])\n",
    "\n",
    "data_train = pd.concat([data_train_1, data_train_2]).reset_index().drop(columns=['index'])\n",
    "\n",
    "data_train.to_csv('_train.csv')\n",
    "\n",
    "data_train = data_train.rename(columns={'cropped image file path':'ROI mask file path', 'ROI mask file path':'cropped image file path'})\n",
    "\n",
    "data_train['image file path'][0]"
   ]
  },
  {
   "cell_type": "code",
   "execution_count": 127,
   "metadata": {},
   "outputs": [],
   "source": [
    "datax = pd.read_csv('_train.csv')"
   ]
  },
  {
   "cell_type": "code",
   "execution_count": 128,
   "metadata": {},
   "outputs": [
    {
     "name": "stderr",
     "output_type": "stream",
     "text": [
      "C:\\Anaconda\\lib\\site-packages\\ipykernel_launcher.py:2: SettingWithCopyWarning: \n",
      "A value is trying to be set on a copy of a slice from a DataFrame\n",
      "\n",
      "See the caveats in the documentation: http://pandas.pydata.org/pandas-docs/stable/indexing.html#indexing-view-versus-copy\n",
      "  \n",
      "C:\\Anaconda\\lib\\site-packages\\ipykernel_launcher.py:3: SettingWithCopyWarning: \n",
      "A value is trying to be set on a copy of a slice from a DataFrame\n",
      "\n",
      "See the caveats in the documentation: http://pandas.pydata.org/pandas-docs/stable/indexing.html#indexing-view-versus-copy\n",
      "  This is separate from the ipykernel package so we can avoid doing imports until\n",
      "C:\\Anaconda\\lib\\site-packages\\ipykernel_launcher.py:4: SettingWithCopyWarning: \n",
      "A value is trying to be set on a copy of a slice from a DataFrame\n",
      "\n",
      "See the caveats in the documentation: http://pandas.pydata.org/pandas-docs/stable/indexing.html#indexing-view-versus-copy\n",
      "  after removing the cwd from sys.path.\n"
     ]
    }
   ],
   "source": [
    "for i in range(len(datax)):\n",
    "    datax['cropped image file path'][i]='F:\\\\CBIS-DDSM\\\\'+str(datax['cropped image file path'][i]).replace('/', '\\\\')\n",
    "    datax['ROI mask file path'][i]='F:/CBIS-DDSM/'+str(datax['ROI mask file path'][i]).replace('/', '\\\\')\n",
    "    datax['image file path'][i]='F:/CBIS-DDSM/'+str(datax['image file path'][i]).replace('/', '\\\\')"
   ]
  },
  {
   "cell_type": "code",
   "execution_count": 129,
   "metadata": {},
   "outputs": [],
   "source": [
    "datax.to_csv('train_xran.csv')"
   ]
  },
  {
   "cell_type": "code",
   "execution_count": 130,
   "metadata": {},
   "outputs": [
    {
     "name": "stderr",
     "output_type": "stream",
     "text": [
      "C:\\Anaconda\\lib\\site-packages\\ipykernel_launcher.py:3: SettingWithCopyWarning: \n",
      "A value is trying to be set on a copy of a slice from a DataFrame\n",
      "\n",
      "See the caveats in the documentation: http://pandas.pydata.org/pandas-docs/stable/indexing.html#indexing-view-versus-copy\n",
      "  This is separate from the ipykernel package so we can avoid doing imports until\n",
      "C:\\Anaconda\\lib\\site-packages\\ipykernel_launcher.py:4: SettingWithCopyWarning: \n",
      "A value is trying to be set on a copy of a slice from a DataFrame\n",
      "\n",
      "See the caveats in the documentation: http://pandas.pydata.org/pandas-docs/stable/indexing.html#indexing-view-versus-copy\n",
      "  after removing the cwd from sys.path.\n",
      "C:\\Anaconda\\lib\\site-packages\\ipykernel_launcher.py:5: SettingWithCopyWarning: \n",
      "A value is trying to be set on a copy of a slice from a DataFrame\n",
      "\n",
      "See the caveats in the documentation: http://pandas.pydata.org/pandas-docs/stable/indexing.html#indexing-view-versus-copy\n",
      "  \"\"\"\n"
     ]
    }
   ],
   "source": [
    "dataz = pd.read_csv('_test.csv')\n",
    "for i in range(len(dataz)):\n",
    "    dataz['cropped image file path'][i]='F:/CBIS-DDSM/'+str(dataz['cropped image file path'][i]).replace('/', '\\\\')\n",
    "    dataz['ROI mask file path'][i]='F:/CBIS-DDSM/'+str(dataz['ROI mask file path'][i]).replace('/', '\\\\')\n",
    "    dataz['image file path'][i]='F:/CBIS-DDSM/'+str(dataz['image file path'][i]).replace('/', '\\\\')"
   ]
  },
  {
   "cell_type": "code",
   "execution_count": 131,
   "metadata": {},
   "outputs": [],
   "source": [
    "dataz.to_csv('test_xran.csv')"
   ]
  }
 ],
 "metadata": {
  "kernelspec": {
   "display_name": "Python 3",
   "language": "python",
   "name": "python3"
  },
  "language_info": {
   "codemirror_mode": {
    "name": "ipython",
    "version": 3
   },
   "file_extension": ".py",
   "mimetype": "text/x-python",
   "name": "python",
   "nbconvert_exporter": "python",
   "pygments_lexer": "ipython3",
   "version": "3.7.3"
  },
  "toc": {
   "base_numbering": 1,
   "nav_menu": {},
   "number_sections": true,
   "sideBar": true,
   "skip_h1_title": false,
   "title_cell": "Table of Contents",
   "title_sidebar": "Contents",
   "toc_cell": false,
   "toc_position": {
    "height": "calc(100% - 180px)",
    "left": "10px",
    "top": "150px",
    "width": "303.542px"
   },
   "toc_section_display": true,
   "toc_window_display": true
  },
  "varInspector": {
   "cols": {
    "lenName": 16,
    "lenType": 16,
    "lenVar": 40
   },
   "kernels_config": {
    "python": {
     "delete_cmd_postfix": "",
     "delete_cmd_prefix": "del ",
     "library": "var_list.py",
     "varRefreshCmd": "print(var_dic_list())"
    },
    "r": {
     "delete_cmd_postfix": ") ",
     "delete_cmd_prefix": "rm(",
     "library": "var_list.r",
     "varRefreshCmd": "cat(var_dic_list()) "
    }
   },
   "types_to_exclude": [
    "module",
    "function",
    "builtin_function_or_method",
    "instance",
    "_Feature"
   ],
   "window_display": false
  }
 },
 "nbformat": 4,
 "nbformat_minor": 2
}
