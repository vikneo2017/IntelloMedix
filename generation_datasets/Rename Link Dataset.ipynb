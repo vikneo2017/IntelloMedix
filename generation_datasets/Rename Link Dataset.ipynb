{
 "cells": [
  {
   "cell_type": "code",
   "execution_count": 162,
   "metadata": {},
   "outputs": [
    {
     "name": "stdout",
     "output_type": "stream",
     "text": [
      "Collecting gunicorn\n",
      "  Downloading https://files.pythonhosted.org/packages/69/ca/926f7cd3a2014b16870086b2d0fdc84a9e49473c68a8dff8b57f7c156f43/gunicorn-20.0.4-py2.py3-none-any.whl (77kB)\n",
      "Requirement already satisfied: setuptools>=3.0 in c:\\anaconda\\lib\\site-packages (from gunicorn) (45.1.0)\n",
      "Installing collected packages: gunicorn\n",
      "Successfully installed gunicorn-20.0.4\n"
     ]
    },
    {
     "name": "stderr",
     "output_type": "stream",
     "text": [
      "WARNING: You are using pip version 19.2.3, however version 20.1.1 is available.\n",
      "You should consider upgrading via the 'python -m pip install --upgrade pip' command.\n"
     ]
    }
   ],
   "source": [
    "!pip install gunicorn"
   ]
  },
  {
   "cell_type": "code",
   "execution_count": 1,
   "metadata": {},
   "outputs": [],
   "source": [
    "import pandas as pd\n",
    "import pydicom\n",
    "from matplotlib import pyplot as plt\n",
    "import png\n",
    "import pydicom\n",
    "import matplotlib.pyplot as plt\n",
    "import scipy.misc\n",
    "from skimage import io, transform, feature\n",
    "from PIL import Image\n",
    "import os\n",
    "import re\n",
    "import numpy as np"
   ]
  },
  {
   "cell_type": "markdown",
   "metadata": {},
   "source": [
    "## Создаем корректные файлы с путями к файлам "
   ]
  },
  {
   "cell_type": "markdown",
   "metadata": {},
   "source": [
    "### Просмотр описания снимков"
   ]
  },
  {
   "cell_type": "code",
   "execution_count": 24,
   "metadata": {},
   "outputs": [
    {
     "data": {
      "text/html": [
       "<div>\n",
       "<style scoped>\n",
       "    .dataframe tbody tr th:only-of-type {\n",
       "        vertical-align: middle;\n",
       "    }\n",
       "\n",
       "    .dataframe tbody tr th {\n",
       "        vertical-align: top;\n",
       "    }\n",
       "\n",
       "    .dataframe thead th {\n",
       "        text-align: right;\n",
       "    }\n",
       "</style>\n",
       "<table border=\"1\" class=\"dataframe\">\n",
       "  <thead>\n",
       "    <tr style=\"text-align: right;\">\n",
       "      <th></th>\n",
       "      <th>patient_id</th>\n",
       "      <th>breast density</th>\n",
       "      <th>left or right breast</th>\n",
       "      <th>image view</th>\n",
       "      <th>abnormality id</th>\n",
       "      <th>abnormality type</th>\n",
       "      <th>calc type</th>\n",
       "      <th>calc distribution</th>\n",
       "      <th>assessment</th>\n",
       "      <th>pathology</th>\n",
       "      <th>subtlety</th>\n",
       "      <th>image file path</th>\n",
       "      <th>cropped image file path</th>\n",
       "      <th>ROI mask file path</th>\n",
       "    </tr>\n",
       "  </thead>\n",
       "  <tbody>\n",
       "    <tr>\n",
       "      <th>0</th>\n",
       "      <td>P_00038</td>\n",
       "      <td>2</td>\n",
       "      <td>LEFT</td>\n",
       "      <td>CC</td>\n",
       "      <td>1</td>\n",
       "      <td>calcification</td>\n",
       "      <td>PUNCTATE-PLEOMORPHIC</td>\n",
       "      <td>CLUSTERED</td>\n",
       "      <td>4</td>\n",
       "      <td>BENIGN</td>\n",
       "      <td>2</td>\n",
       "      <td>Calc-Test_P_00038_LEFT_CC/1.3.6.1.4.1.9590.100...</td>\n",
       "      <td>Calc-Test_P_00038_LEFT_CC_1/1.3.6.1.4.1.9590.1...</td>\n",
       "      <td>Calc-Test_P_00038_LEFT_CC_1/1.3.6.1.4.1.9590.1...</td>\n",
       "    </tr>\n",
       "    <tr>\n",
       "      <th>1</th>\n",
       "      <td>P_00038</td>\n",
       "      <td>2</td>\n",
       "      <td>LEFT</td>\n",
       "      <td>MLO</td>\n",
       "      <td>1</td>\n",
       "      <td>calcification</td>\n",
       "      <td>PUNCTATE-PLEOMORPHIC</td>\n",
       "      <td>CLUSTERED</td>\n",
       "      <td>4</td>\n",
       "      <td>BENIGN</td>\n",
       "      <td>2</td>\n",
       "      <td>Calc-Test_P_00038_LEFT_MLO/1.3.6.1.4.1.9590.10...</td>\n",
       "      <td>Calc-Test_P_00038_LEFT_MLO_1/1.3.6.1.4.1.9590....</td>\n",
       "      <td>Calc-Test_P_00038_LEFT_MLO_1/1.3.6.1.4.1.9590....</td>\n",
       "    </tr>\n",
       "    <tr>\n",
       "      <th>2</th>\n",
       "      <td>P_00038</td>\n",
       "      <td>2</td>\n",
       "      <td>RIGHT</td>\n",
       "      <td>CC</td>\n",
       "      <td>1</td>\n",
       "      <td>calcification</td>\n",
       "      <td>VASCULAR</td>\n",
       "      <td>NaN</td>\n",
       "      <td>2</td>\n",
       "      <td>BENIGN_WITHOUT_CALLBACK</td>\n",
       "      <td>5</td>\n",
       "      <td>Calc-Test_P_00038_RIGHT_CC/1.3.6.1.4.1.9590.10...</td>\n",
       "      <td>Calc-Test_P_00038_RIGHT_CC_1/1.3.6.1.4.1.9590....</td>\n",
       "      <td>Calc-Test_P_00038_RIGHT_CC_1/1.3.6.1.4.1.9590....</td>\n",
       "    </tr>\n",
       "    <tr>\n",
       "      <th>3</th>\n",
       "      <td>P_00038</td>\n",
       "      <td>2</td>\n",
       "      <td>RIGHT</td>\n",
       "      <td>CC</td>\n",
       "      <td>2</td>\n",
       "      <td>calcification</td>\n",
       "      <td>VASCULAR</td>\n",
       "      <td>NaN</td>\n",
       "      <td>2</td>\n",
       "      <td>BENIGN_WITHOUT_CALLBACK</td>\n",
       "      <td>5</td>\n",
       "      <td>Calc-Test_P_00038_RIGHT_CC/1.3.6.1.4.1.9590.10...</td>\n",
       "      <td>Calc-Test_P_00038_RIGHT_CC_2/1.3.6.1.4.1.9590....</td>\n",
       "      <td>Calc-Test_P_00038_RIGHT_CC_2/1.3.6.1.4.1.9590....</td>\n",
       "    </tr>\n",
       "    <tr>\n",
       "      <th>4</th>\n",
       "      <td>P_00038</td>\n",
       "      <td>2</td>\n",
       "      <td>RIGHT</td>\n",
       "      <td>MLO</td>\n",
       "      <td>1</td>\n",
       "      <td>calcification</td>\n",
       "      <td>VASCULAR</td>\n",
       "      <td>NaN</td>\n",
       "      <td>2</td>\n",
       "      <td>BENIGN_WITHOUT_CALLBACK</td>\n",
       "      <td>5</td>\n",
       "      <td>Calc-Test_P_00038_RIGHT_MLO/1.3.6.1.4.1.9590.1...</td>\n",
       "      <td>Calc-Test_P_00038_RIGHT_MLO_1/1.3.6.1.4.1.9590...</td>\n",
       "      <td>Calc-Test_P_00038_RIGHT_MLO_1/1.3.6.1.4.1.9590...</td>\n",
       "    </tr>\n",
       "  </tbody>\n",
       "</table>\n",
       "</div>"
      ],
      "text/plain": [
       "  patient_id  breast density left or right breast image view  abnormality id  \\\n",
       "0    P_00038               2                 LEFT         CC               1   \n",
       "1    P_00038               2                 LEFT        MLO               1   \n",
       "2    P_00038               2                RIGHT         CC               1   \n",
       "3    P_00038               2                RIGHT         CC               2   \n",
       "4    P_00038               2                RIGHT        MLO               1   \n",
       "\n",
       "  abnormality type             calc type calc distribution  assessment  \\\n",
       "0    calcification  PUNCTATE-PLEOMORPHIC         CLUSTERED           4   \n",
       "1    calcification  PUNCTATE-PLEOMORPHIC         CLUSTERED           4   \n",
       "2    calcification              VASCULAR               NaN           2   \n",
       "3    calcification              VASCULAR               NaN           2   \n",
       "4    calcification              VASCULAR               NaN           2   \n",
       "\n",
       "                 pathology  subtlety  \\\n",
       "0                   BENIGN         2   \n",
       "1                   BENIGN         2   \n",
       "2  BENIGN_WITHOUT_CALLBACK         5   \n",
       "3  BENIGN_WITHOUT_CALLBACK         5   \n",
       "4  BENIGN_WITHOUT_CALLBACK         5   \n",
       "\n",
       "                                     image file path  \\\n",
       "0  Calc-Test_P_00038_LEFT_CC/1.3.6.1.4.1.9590.100...   \n",
       "1  Calc-Test_P_00038_LEFT_MLO/1.3.6.1.4.1.9590.10...   \n",
       "2  Calc-Test_P_00038_RIGHT_CC/1.3.6.1.4.1.9590.10...   \n",
       "3  Calc-Test_P_00038_RIGHT_CC/1.3.6.1.4.1.9590.10...   \n",
       "4  Calc-Test_P_00038_RIGHT_MLO/1.3.6.1.4.1.9590.1...   \n",
       "\n",
       "                             cropped image file path  \\\n",
       "0  Calc-Test_P_00038_LEFT_CC_1/1.3.6.1.4.1.9590.1...   \n",
       "1  Calc-Test_P_00038_LEFT_MLO_1/1.3.6.1.4.1.9590....   \n",
       "2  Calc-Test_P_00038_RIGHT_CC_1/1.3.6.1.4.1.9590....   \n",
       "3  Calc-Test_P_00038_RIGHT_CC_2/1.3.6.1.4.1.9590....   \n",
       "4  Calc-Test_P_00038_RIGHT_MLO_1/1.3.6.1.4.1.9590...   \n",
       "\n",
       "                                  ROI mask file path  \n",
       "0  Calc-Test_P_00038_LEFT_CC_1/1.3.6.1.4.1.9590.1...  \n",
       "1  Calc-Test_P_00038_LEFT_MLO_1/1.3.6.1.4.1.9590....  \n",
       "2  Calc-Test_P_00038_RIGHT_CC_1/1.3.6.1.4.1.9590....  \n",
       "3  Calc-Test_P_00038_RIGHT_CC_2/1.3.6.1.4.1.9590....  \n",
       "4  Calc-Test_P_00038_RIGHT_MLO_1/1.3.6.1.4.1.9590...  "
      ]
     },
     "execution_count": 24,
     "metadata": {},
     "output_type": "execute_result"
    }
   ],
   "source": [
    "data.head()"
   ]
  },
  {
   "cell_type": "markdown",
   "metadata": {},
   "source": [
    "### Изменяем пути к файлам с кривых на верные"
   ]
  },
  {
   "cell_type": "code",
   "execution_count": 27,
   "metadata": {},
   "outputs": [],
   "source": [
    "type_dir = ['F:\\\\CBIS-DDSM\\\\Calc-Test_', 'F:\\\\CBIS-DDSM\\\\Calc-Training_',  'F:\\\\CBIS-DDSM\\\\Mass-Test_', 'F:\\\\CBIS-DDSM\\\\Mass-Training_']\n",
    "data_csv = ['calc_case_description_test_set.csv', 'calc_case_description_train_set.csv', 'mass_case_description_test_set.csv', 'mass_case_description_train_set.csv']"
   ]
  },
  {
   "cell_type": "code",
   "execution_count": 48,
   "metadata": {},
   "outputs": [
    {
     "name": "stdout",
     "output_type": "stream",
     "text": [
      "Сохранено 326 изображений из 326\n",
      "Сохранено 1546 изображений из 1546\n",
      "Сохранено 378 изображений из 378\n",
      "Сохранено 1318 изображений из 1318\n"
     ]
    }
   ],
   "source": [
    "for sets in range(4):\n",
    "    data = pd.read_csv(data_csv[sets])\n",
    "    path_dir=type_dir[sets]\n",
    "    for i in range(len(data)):\n",
    "        path=str(path_dir)+str(data['patient_id'][i])+str('_')+str(data['left or right breast'][i])+str('_')+str(data['image view'][i])\n",
    "        k=0\n",
    "        for root, dirs, files in os.walk(path, topdown=True):\n",
    "            k+=1\n",
    "            if k==3:\n",
    "                path_file=str(root)+str('\\\\')+str(files[0])\n",
    "                file = path_file.replace('\\\\', '/')\n",
    "                data.iloc[i, 11] = str(file[13:])\n",
    "        if i==len(data)-1:\n",
    "            print('Сохранено {} изображений из {}'.format(i+1, len(data)))\n",
    "    data.to_csv('new_'+str(data_csv[sets]))"
   ]
  },
  {
   "cell_type": "markdown",
   "metadata": {},
   "source": [
    "## Склеиваем calc и mass датасеты с новыми путями к файлам"
   ]
  },
  {
   "cell_type": "code",
   "execution_count": 49,
   "metadata": {},
   "outputs": [],
   "source": [
    "new_data_csv = ['new_calc_case_description_test_set.csv', \n",
    "                'new_calc_case_description_train_set.csv', \n",
    "                'new_mass_case_description_test_set.csv', \n",
    "                'new_mass_case_description_train_set.csv']"
   ]
  },
  {
   "cell_type": "code",
   "execution_count": 51,
   "metadata": {},
   "outputs": [],
   "source": [
    "data_test_1 = pd.read_csv(new_data_csv[0])\n",
    "data_test_2 = pd.read_csv(new_data_csv[2])\n",
    "\n",
    "data_test = pd.concat([data_test_1, data_test_2]).reset_index().drop(columns=['Unnamed: 0', 'index'])"
   ]
  },
  {
   "cell_type": "code",
   "execution_count": 57,
   "metadata": {},
   "outputs": [],
   "source": [
    "data_test.to_csv('test.csv')"
   ]
  },
  {
   "cell_type": "code",
   "execution_count": 58,
   "metadata": {},
   "outputs": [
    {
     "name": "stderr",
     "output_type": "stream",
     "text": [
      "C:\\Anaconda\\lib\\site-packages\\ipykernel_launcher.py:4: FutureWarning: Sorting because non-concatenation axis is not aligned. A future version\n",
      "of pandas will change to not sort by default.\n",
      "\n",
      "To accept the future behavior, pass 'sort=False'.\n",
      "\n",
      "To retain the current behavior and silence the warning, pass 'sort=True'.\n",
      "\n",
      "  after removing the cwd from sys.path.\n"
     ]
    }
   ],
   "source": [
    "data_train_1 = pd.read_csv(new_data_csv[0])\n",
    "data_train_2 = pd.read_csv(new_data_csv[2])\n",
    "\n",
    "data_train = pd.concat([data_train_1, data_train_2]).reset_index().drop(columns=['Unnamed: 0', 'index'])"
   ]
  },
  {
   "cell_type": "code",
   "execution_count": 59,
   "metadata": {},
   "outputs": [],
   "source": [
    "data_train.to_csv('train.csv')"
   ]
  },
  {
   "cell_type": "code",
   "execution_count": 60,
   "metadata": {},
   "outputs": [
    {
     "data": {
      "text/html": [
       "<div>\n",
       "<style scoped>\n",
       "    .dataframe tbody tr th:only-of-type {\n",
       "        vertical-align: middle;\n",
       "    }\n",
       "\n",
       "    .dataframe tbody tr th {\n",
       "        vertical-align: top;\n",
       "    }\n",
       "\n",
       "    .dataframe thead th {\n",
       "        text-align: right;\n",
       "    }\n",
       "</style>\n",
       "<table border=\"1\" class=\"dataframe\">\n",
       "  <thead>\n",
       "    <tr style=\"text-align: right;\">\n",
       "      <th></th>\n",
       "      <th>ROI mask file path</th>\n",
       "      <th>abnormality id</th>\n",
       "      <th>abnormality type</th>\n",
       "      <th>assessment</th>\n",
       "      <th>breast density</th>\n",
       "      <th>breast_density</th>\n",
       "      <th>calc distribution</th>\n",
       "      <th>calc type</th>\n",
       "      <th>cropped image file path</th>\n",
       "      <th>image file path</th>\n",
       "      <th>image view</th>\n",
       "      <th>left or right breast</th>\n",
       "      <th>mass margins</th>\n",
       "      <th>mass shape</th>\n",
       "      <th>pathology</th>\n",
       "      <th>patient_id</th>\n",
       "      <th>subtlety</th>\n",
       "    </tr>\n",
       "  </thead>\n",
       "  <tbody>\n",
       "    <tr>\n",
       "      <th>0</th>\n",
       "      <td>Calc-Test_P_00038_LEFT_CC_1/1.3.6.1.4.1.9590.1...</td>\n",
       "      <td>1</td>\n",
       "      <td>calcification</td>\n",
       "      <td>4</td>\n",
       "      <td>2.0</td>\n",
       "      <td>NaN</td>\n",
       "      <td>CLUSTERED</td>\n",
       "      <td>PUNCTATE-PLEOMORPHIC</td>\n",
       "      <td>Calc-Test_P_00038_LEFT_CC_1/1.3.6.1.4.1.9590.1...</td>\n",
       "      <td>Calc-Test_P_00038_LEFT_CC/08-29-2017-DDSM-9600...</td>\n",
       "      <td>CC</td>\n",
       "      <td>LEFT</td>\n",
       "      <td>NaN</td>\n",
       "      <td>NaN</td>\n",
       "      <td>BENIGN</td>\n",
       "      <td>P_00038</td>\n",
       "      <td>2</td>\n",
       "    </tr>\n",
       "    <tr>\n",
       "      <th>1</th>\n",
       "      <td>Calc-Test_P_00038_LEFT_MLO_1/1.3.6.1.4.1.9590....</td>\n",
       "      <td>1</td>\n",
       "      <td>calcification</td>\n",
       "      <td>4</td>\n",
       "      <td>2.0</td>\n",
       "      <td>NaN</td>\n",
       "      <td>CLUSTERED</td>\n",
       "      <td>PUNCTATE-PLEOMORPHIC</td>\n",
       "      <td>Calc-Test_P_00038_LEFT_MLO_1/1.3.6.1.4.1.9590....</td>\n",
       "      <td>Calc-Test_P_00038_LEFT_MLO/08-29-2017-DDSM-176...</td>\n",
       "      <td>MLO</td>\n",
       "      <td>LEFT</td>\n",
       "      <td>NaN</td>\n",
       "      <td>NaN</td>\n",
       "      <td>BENIGN</td>\n",
       "      <td>P_00038</td>\n",
       "      <td>2</td>\n",
       "    </tr>\n",
       "    <tr>\n",
       "      <th>2</th>\n",
       "      <td>Calc-Test_P_00038_RIGHT_CC_1/1.3.6.1.4.1.9590....</td>\n",
       "      <td>1</td>\n",
       "      <td>calcification</td>\n",
       "      <td>2</td>\n",
       "      <td>2.0</td>\n",
       "      <td>NaN</td>\n",
       "      <td>NaN</td>\n",
       "      <td>VASCULAR</td>\n",
       "      <td>Calc-Test_P_00038_RIGHT_CC_1/1.3.6.1.4.1.9590....</td>\n",
       "      <td>Calc-Test_P_00038_RIGHT_CC/08-29-2017-DDSM-284...</td>\n",
       "      <td>CC</td>\n",
       "      <td>RIGHT</td>\n",
       "      <td>NaN</td>\n",
       "      <td>NaN</td>\n",
       "      <td>BENIGN_WITHOUT_CALLBACK</td>\n",
       "      <td>P_00038</td>\n",
       "      <td>5</td>\n",
       "    </tr>\n",
       "    <tr>\n",
       "      <th>3</th>\n",
       "      <td>Calc-Test_P_00038_RIGHT_CC_2/1.3.6.1.4.1.9590....</td>\n",
       "      <td>2</td>\n",
       "      <td>calcification</td>\n",
       "      <td>2</td>\n",
       "      <td>2.0</td>\n",
       "      <td>NaN</td>\n",
       "      <td>NaN</td>\n",
       "      <td>VASCULAR</td>\n",
       "      <td>Calc-Test_P_00038_RIGHT_CC_2/1.3.6.1.4.1.9590....</td>\n",
       "      <td>Calc-Test_P_00038_RIGHT_CC/08-29-2017-DDSM-284...</td>\n",
       "      <td>CC</td>\n",
       "      <td>RIGHT</td>\n",
       "      <td>NaN</td>\n",
       "      <td>NaN</td>\n",
       "      <td>BENIGN_WITHOUT_CALLBACK</td>\n",
       "      <td>P_00038</td>\n",
       "      <td>5</td>\n",
       "    </tr>\n",
       "    <tr>\n",
       "      <th>4</th>\n",
       "      <td>Calc-Test_P_00038_RIGHT_MLO_1/1.3.6.1.4.1.9590...</td>\n",
       "      <td>1</td>\n",
       "      <td>calcification</td>\n",
       "      <td>2</td>\n",
       "      <td>2.0</td>\n",
       "      <td>NaN</td>\n",
       "      <td>NaN</td>\n",
       "      <td>VASCULAR</td>\n",
       "      <td>Calc-Test_P_00038_RIGHT_MLO_1/1.3.6.1.4.1.9590...</td>\n",
       "      <td>Calc-Test_P_00038_RIGHT_MLO/08-29-2017-DDSM-85...</td>\n",
       "      <td>MLO</td>\n",
       "      <td>RIGHT</td>\n",
       "      <td>NaN</td>\n",
       "      <td>NaN</td>\n",
       "      <td>BENIGN_WITHOUT_CALLBACK</td>\n",
       "      <td>P_00038</td>\n",
       "      <td>5</td>\n",
       "    </tr>\n",
       "  </tbody>\n",
       "</table>\n",
       "</div>"
      ],
      "text/plain": [
       "                                  ROI mask file path  abnormality id  \\\n",
       "0  Calc-Test_P_00038_LEFT_CC_1/1.3.6.1.4.1.9590.1...               1   \n",
       "1  Calc-Test_P_00038_LEFT_MLO_1/1.3.6.1.4.1.9590....               1   \n",
       "2  Calc-Test_P_00038_RIGHT_CC_1/1.3.6.1.4.1.9590....               1   \n",
       "3  Calc-Test_P_00038_RIGHT_CC_2/1.3.6.1.4.1.9590....               2   \n",
       "4  Calc-Test_P_00038_RIGHT_MLO_1/1.3.6.1.4.1.9590...               1   \n",
       "\n",
       "  abnormality type  assessment  breast density  breast_density  \\\n",
       "0    calcification           4             2.0             NaN   \n",
       "1    calcification           4             2.0             NaN   \n",
       "2    calcification           2             2.0             NaN   \n",
       "3    calcification           2             2.0             NaN   \n",
       "4    calcification           2             2.0             NaN   \n",
       "\n",
       "  calc distribution             calc type  \\\n",
       "0         CLUSTERED  PUNCTATE-PLEOMORPHIC   \n",
       "1         CLUSTERED  PUNCTATE-PLEOMORPHIC   \n",
       "2               NaN              VASCULAR   \n",
       "3               NaN              VASCULAR   \n",
       "4               NaN              VASCULAR   \n",
       "\n",
       "                             cropped image file path  \\\n",
       "0  Calc-Test_P_00038_LEFT_CC_1/1.3.6.1.4.1.9590.1...   \n",
       "1  Calc-Test_P_00038_LEFT_MLO_1/1.3.6.1.4.1.9590....   \n",
       "2  Calc-Test_P_00038_RIGHT_CC_1/1.3.6.1.4.1.9590....   \n",
       "3  Calc-Test_P_00038_RIGHT_CC_2/1.3.6.1.4.1.9590....   \n",
       "4  Calc-Test_P_00038_RIGHT_MLO_1/1.3.6.1.4.1.9590...   \n",
       "\n",
       "                                     image file path image view  \\\n",
       "0  Calc-Test_P_00038_LEFT_CC/08-29-2017-DDSM-9600...         CC   \n",
       "1  Calc-Test_P_00038_LEFT_MLO/08-29-2017-DDSM-176...        MLO   \n",
       "2  Calc-Test_P_00038_RIGHT_CC/08-29-2017-DDSM-284...         CC   \n",
       "3  Calc-Test_P_00038_RIGHT_CC/08-29-2017-DDSM-284...         CC   \n",
       "4  Calc-Test_P_00038_RIGHT_MLO/08-29-2017-DDSM-85...        MLO   \n",
       "\n",
       "  left or right breast mass margins mass shape                pathology  \\\n",
       "0                 LEFT          NaN        NaN                   BENIGN   \n",
       "1                 LEFT          NaN        NaN                   BENIGN   \n",
       "2                RIGHT          NaN        NaN  BENIGN_WITHOUT_CALLBACK   \n",
       "3                RIGHT          NaN        NaN  BENIGN_WITHOUT_CALLBACK   \n",
       "4                RIGHT          NaN        NaN  BENIGN_WITHOUT_CALLBACK   \n",
       "\n",
       "  patient_id  subtlety  \n",
       "0    P_00038         2  \n",
       "1    P_00038         2  \n",
       "2    P_00038         5  \n",
       "3    P_00038         5  \n",
       "4    P_00038         5  "
      ]
     },
     "execution_count": 60,
     "metadata": {},
     "output_type": "execute_result"
    }
   ],
   "source": [
    "data_train.head()"
   ]
  }
 ],
 "metadata": {
  "kernelspec": {
   "display_name": "Python 3",
   "language": "python",
   "name": "python3"
  },
  "language_info": {
   "codemirror_mode": {
    "name": "ipython",
    "version": 3
   },
   "file_extension": ".py",
   "mimetype": "text/x-python",
   "name": "python",
   "nbconvert_exporter": "python",
   "pygments_lexer": "ipython3",
   "version": "3.7.3"
  },
  "toc": {
   "base_numbering": 1,
   "nav_menu": {},
   "number_sections": true,
   "sideBar": true,
   "skip_h1_title": false,
   "title_cell": "Table of Contents",
   "title_sidebar": "Contents",
   "toc_cell": false,
   "toc_position": {
    "height": "calc(100% - 180px)",
    "left": "10px",
    "top": "150px",
    "width": "303.542px"
   },
   "toc_section_display": true,
   "toc_window_display": true
  },
  "varInspector": {
   "cols": {
    "lenName": 16,
    "lenType": 16,
    "lenVar": 40
   },
   "kernels_config": {
    "python": {
     "delete_cmd_postfix": "",
     "delete_cmd_prefix": "del ",
     "library": "var_list.py",
     "varRefreshCmd": "print(var_dic_list())"
    },
    "r": {
     "delete_cmd_postfix": ") ",
     "delete_cmd_prefix": "rm(",
     "library": "var_list.r",
     "varRefreshCmd": "cat(var_dic_list()) "
    }
   },
   "types_to_exclude": [
    "module",
    "function",
    "builtin_function_or_method",
    "instance",
    "_Feature"
   ],
   "window_display": false
  }
 },
 "nbformat": 4,
 "nbformat_minor": 2
}
